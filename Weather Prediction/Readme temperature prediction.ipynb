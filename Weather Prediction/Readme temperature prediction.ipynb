{
 "cells": [
  {
   "cell_type": "markdown",
   "id": "7f5f5fd0",
   "metadata": {},
   "source": [
    "### Project Overview"
   ]
  },
  {
   "cell_type": "markdown",
   "id": "00621437",
   "metadata": {},
   "source": [
    "In this project, we will try to predict tomorrow's temperature using historical data. We will clean the data and preprocess it in order to use it in machine learning techniques. Then we will build a system to make historical predictions. Then we will review de model's performance and try to improve it adding more predictors. finally, we will make nex-day predictions"
   ]
  },
  {
   "cell_type": "markdown",
   "id": "2cd4e5c1",
   "metadata": {},
   "source": [
    "### Data"
   ]
  },
  {
   "cell_type": "markdown",
   "id": "3dfd6762",
   "metadata": {},
   "source": [
    "Data is obtained from NOAA, a US gov agency. In this case it is from 1-jan-1970 to 24-oct-2023, using JFK airport as location and taking all variables available.\n",
    "\n",
    "   [Data documentation](https://www1.ncdc.noaa.gov/pub/data/cdo/documentation/GHCND_documentation.pdf)"
   ]
  }
 ],
 "metadata": {
  "kernelspec": {
   "display_name": "Python 3 (ipykernel)",
   "language": "python",
   "name": "python3"
  },
  "language_info": {
   "codemirror_mode": {
    "name": "ipython",
    "version": 3
   },
   "file_extension": ".py",
   "mimetype": "text/x-python",
   "name": "python",
   "nbconvert_exporter": "python",
   "pygments_lexer": "ipython3",
   "version": "3.11.5"
  }
 },
 "nbformat": 4,
 "nbformat_minor": 5
}
